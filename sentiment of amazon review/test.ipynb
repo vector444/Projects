{
  "cells": [
    {
      "cell_type": "code",
      "execution_count": 2,
      "id": "acdcd052-cf07-431d-8a3d-dde0881cb419",
      "metadata": {
        "colab": {
          "base_uri": "https://localhost:8080/"
        },
        "id": "acdcd052-cf07-431d-8a3d-dde0881cb419",
        "outputId": "2b3e968e-b015-40ae-946c-6a047df66704"
      },
      "outputs": [
        {
          "output_type": "stream",
          "name": "stderr",
          "text": [
            "[nltk_data] Downloading package stopwords to /root/nltk_data...\n",
            "[nltk_data]   Unzipping corpora/stopwords.zip.\n"
          ]
        }
      ],
      "source": [
        "import pandas as pd\n",
        "import numpy as np\n",
        "import matplotlib.pyplot as plt\n",
        "import seaborn as sns\n",
        "import nltk\n",
        "import re\n",
        "\n",
        "from nltk.tokenize import word_tokenize\n",
        "from nltk.corpus import stopwords\n",
        "nltk.download('stopwords')\n",
        "stopwords = nltk.corpus.stopwords.words('english')\n",
        "stemmer = nltk.SnowballStemmer(\"english\")\n",
        "\n",
        "import tensorflow as tf\n",
        "from tensorflow.keras.preprocessing.text import Tokenizer\n",
        "from sklearn.model_selection import train_test_split\n",
        "from tensorflow.keras.preprocessing.sequence import pad_sequences\n",
        "from tensorflow.keras.models import Sequential\n",
        "from tensorflow.keras.layers import Embedding,LSTM,Dense"
      ]
    },
    {
      "cell_type": "code",
      "execution_count": 3,
      "id": "e29b4e8d-a841-4fb3-ad7a-e9cbc24f2a41",
      "metadata": {
        "id": "e29b4e8d-a841-4fb3-ad7a-e9cbc24f2a41"
      },
      "outputs": [],
      "source": [
        "data =pd.read_csv(\"Reviews.csv\")"
      ]
    },
    {
      "cell_type": "code",
      "execution_count": 55,
      "id": "d021fb32-b9da-442b-a2fd-2c646d7bce5f",
      "metadata": {
        "colab": {
          "base_uri": "https://localhost:8080/",
          "height": 694
        },
        "id": "d021fb32-b9da-442b-a2fd-2c646d7bce5f",
        "outputId": "5aa69566-3ff6-4139-d5d1-95a7c439b78a"
      },
      "outputs": [
        {
          "output_type": "execute_result",
          "data": {
            "text/plain": [
              "   Id   ProductId          UserId                      ProfileName  \\\n",
              "0   1  B001E4KFG0  A3SGXH7AUHU8GW                       delmartian   \n",
              "1   2  B00813GRG4  A1D87F6ZCVE5NK                           dll pa   \n",
              "2   3  B000LQOCH0   ABXLMWJIXXAIN  Natalia Corres \"Natalia Corres\"   \n",
              "3   4  B000UA0QIQ  A395BORC6FGVXV                             Karl   \n",
              "4   5  B006K2ZZ7K  A1UQRSCLF8GW1T    Michael D. Bigham \"M. Wassir\"   \n",
              "\n",
              "   HelpfulnessNumerator  HelpfulnessDenominator  Score        Time  \\\n",
              "0                     1                       1      5  1303862400   \n",
              "1                     0                       0      1  1346976000   \n",
              "2                     1                       1      4  1219017600   \n",
              "3                     3                       3      2  1307923200   \n",
              "4                     0                       0      5  1350777600   \n",
              "\n",
              "                 Summary                                               Text  \\\n",
              "0  Good Quality Dog Food  I have bought several of the Vitality canned d...   \n",
              "1      Not as Advertised  Product arrived labeled as Jumbo Salted Peanut...   \n",
              "2  \"Delight\" says it all  This is a confection that has been around a fe...   \n",
              "3         Cough Medicine  If you are looking for the secret ingredient i...   \n",
              "4            Great taffy  Great taffy at a great price.  There was a wid...   \n",
              "\n",
              "  Sentiment  \n",
              "0  Positive  \n",
              "1  Negative  \n",
              "2  Positive  \n",
              "3  Negative  \n",
              "4  Positive  "
            ],
            "text/html": [
              "\n",
              "  <div id=\"df-a69dd484-ff3f-4347-96e2-8f8820f16c4f\" class=\"colab-df-container\">\n",
              "    <div>\n",
              "<style scoped>\n",
              "    .dataframe tbody tr th:only-of-type {\n",
              "        vertical-align: middle;\n",
              "    }\n",
              "\n",
              "    .dataframe tbody tr th {\n",
              "        vertical-align: top;\n",
              "    }\n",
              "\n",
              "    .dataframe thead th {\n",
              "        text-align: right;\n",
              "    }\n",
              "</style>\n",
              "<table border=\"1\" class=\"dataframe\">\n",
              "  <thead>\n",
              "    <tr style=\"text-align: right;\">\n",
              "      <th></th>\n",
              "      <th>Id</th>\n",
              "      <th>ProductId</th>\n",
              "      <th>UserId</th>\n",
              "      <th>ProfileName</th>\n",
              "      <th>HelpfulnessNumerator</th>\n",
              "      <th>HelpfulnessDenominator</th>\n",
              "      <th>Score</th>\n",
              "      <th>Time</th>\n",
              "      <th>Summary</th>\n",
              "      <th>Text</th>\n",
              "      <th>Sentiment</th>\n",
              "    </tr>\n",
              "  </thead>\n",
              "  <tbody>\n",
              "    <tr>\n",
              "      <th>0</th>\n",
              "      <td>1</td>\n",
              "      <td>B001E4KFG0</td>\n",
              "      <td>A3SGXH7AUHU8GW</td>\n",
              "      <td>delmartian</td>\n",
              "      <td>1</td>\n",
              "      <td>1</td>\n",
              "      <td>5</td>\n",
              "      <td>1303862400</td>\n",
              "      <td>Good Quality Dog Food</td>\n",
              "      <td>I have bought several of the Vitality canned d...</td>\n",
              "      <td>Positive</td>\n",
              "    </tr>\n",
              "    <tr>\n",
              "      <th>1</th>\n",
              "      <td>2</td>\n",
              "      <td>B00813GRG4</td>\n",
              "      <td>A1D87F6ZCVE5NK</td>\n",
              "      <td>dll pa</td>\n",
              "      <td>0</td>\n",
              "      <td>0</td>\n",
              "      <td>1</td>\n",
              "      <td>1346976000</td>\n",
              "      <td>Not as Advertised</td>\n",
              "      <td>Product arrived labeled as Jumbo Salted Peanut...</td>\n",
              "      <td>Negative</td>\n",
              "    </tr>\n",
              "    <tr>\n",
              "      <th>2</th>\n",
              "      <td>3</td>\n",
              "      <td>B000LQOCH0</td>\n",
              "      <td>ABXLMWJIXXAIN</td>\n",
              "      <td>Natalia Corres \"Natalia Corres\"</td>\n",
              "      <td>1</td>\n",
              "      <td>1</td>\n",
              "      <td>4</td>\n",
              "      <td>1219017600</td>\n",
              "      <td>\"Delight\" says it all</td>\n",
              "      <td>This is a confection that has been around a fe...</td>\n",
              "      <td>Positive</td>\n",
              "    </tr>\n",
              "    <tr>\n",
              "      <th>3</th>\n",
              "      <td>4</td>\n",
              "      <td>B000UA0QIQ</td>\n",
              "      <td>A395BORC6FGVXV</td>\n",
              "      <td>Karl</td>\n",
              "      <td>3</td>\n",
              "      <td>3</td>\n",
              "      <td>2</td>\n",
              "      <td>1307923200</td>\n",
              "      <td>Cough Medicine</td>\n",
              "      <td>If you are looking for the secret ingredient i...</td>\n",
              "      <td>Negative</td>\n",
              "    </tr>\n",
              "    <tr>\n",
              "      <th>4</th>\n",
              "      <td>5</td>\n",
              "      <td>B006K2ZZ7K</td>\n",
              "      <td>A1UQRSCLF8GW1T</td>\n",
              "      <td>Michael D. Bigham \"M. Wassir\"</td>\n",
              "      <td>0</td>\n",
              "      <td>0</td>\n",
              "      <td>5</td>\n",
              "      <td>1350777600</td>\n",
              "      <td>Great taffy</td>\n",
              "      <td>Great taffy at a great price.  There was a wid...</td>\n",
              "      <td>Positive</td>\n",
              "    </tr>\n",
              "  </tbody>\n",
              "</table>\n",
              "</div>\n",
              "    <div class=\"colab-df-buttons\">\n",
              "\n",
              "  <div class=\"colab-df-container\">\n",
              "    <button class=\"colab-df-convert\" onclick=\"convertToInteractive('df-a69dd484-ff3f-4347-96e2-8f8820f16c4f')\"\n",
              "            title=\"Convert this dataframe to an interactive table.\"\n",
              "            style=\"display:none;\">\n",
              "\n",
              "  <svg xmlns=\"http://www.w3.org/2000/svg\" height=\"24px\" viewBox=\"0 -960 960 960\">\n",
              "    <path d=\"M120-120v-720h720v720H120Zm60-500h600v-160H180v160Zm220 220h160v-160H400v160Zm0 220h160v-160H400v160ZM180-400h160v-160H180v160Zm440 0h160v-160H620v160ZM180-180h160v-160H180v160Zm440 0h160v-160H620v160Z\"/>\n",
              "  </svg>\n",
              "    </button>\n",
              "\n",
              "  <style>\n",
              "    .colab-df-container {\n",
              "      display:flex;\n",
              "      gap: 12px;\n",
              "    }\n",
              "\n",
              "    .colab-df-convert {\n",
              "      background-color: #E8F0FE;\n",
              "      border: none;\n",
              "      border-radius: 50%;\n",
              "      cursor: pointer;\n",
              "      display: none;\n",
              "      fill: #1967D2;\n",
              "      height: 32px;\n",
              "      padding: 0 0 0 0;\n",
              "      width: 32px;\n",
              "    }\n",
              "\n",
              "    .colab-df-convert:hover {\n",
              "      background-color: #E2EBFA;\n",
              "      box-shadow: 0px 1px 2px rgba(60, 64, 67, 0.3), 0px 1px 3px 1px rgba(60, 64, 67, 0.15);\n",
              "      fill: #174EA6;\n",
              "    }\n",
              "\n",
              "    .colab-df-buttons div {\n",
              "      margin-bottom: 4px;\n",
              "    }\n",
              "\n",
              "    [theme=dark] .colab-df-convert {\n",
              "      background-color: #3B4455;\n",
              "      fill: #D2E3FC;\n",
              "    }\n",
              "\n",
              "    [theme=dark] .colab-df-convert:hover {\n",
              "      background-color: #434B5C;\n",
              "      box-shadow: 0px 1px 3px 1px rgba(0, 0, 0, 0.15);\n",
              "      filter: drop-shadow(0px 1px 2px rgba(0, 0, 0, 0.3));\n",
              "      fill: #FFFFFF;\n",
              "    }\n",
              "  </style>\n",
              "\n",
              "    <script>\n",
              "      const buttonEl =\n",
              "        document.querySelector('#df-a69dd484-ff3f-4347-96e2-8f8820f16c4f button.colab-df-convert');\n",
              "      buttonEl.style.display =\n",
              "        google.colab.kernel.accessAllowed ? 'block' : 'none';\n",
              "\n",
              "      async function convertToInteractive(key) {\n",
              "        const element = document.querySelector('#df-a69dd484-ff3f-4347-96e2-8f8820f16c4f');\n",
              "        const dataTable =\n",
              "          await google.colab.kernel.invokeFunction('convertToInteractive',\n",
              "                                                    [key], {});\n",
              "        if (!dataTable) return;\n",
              "\n",
              "        const docLinkHtml = 'Like what you see? Visit the ' +\n",
              "          '<a target=\"_blank\" href=https://colab.research.google.com/notebooks/data_table.ipynb>data table notebook</a>'\n",
              "          + ' to learn more about interactive tables.';\n",
              "        element.innerHTML = '';\n",
              "        dataTable['output_type'] = 'display_data';\n",
              "        await google.colab.output.renderOutput(dataTable, element);\n",
              "        const docLink = document.createElement('div');\n",
              "        docLink.innerHTML = docLinkHtml;\n",
              "        element.appendChild(docLink);\n",
              "      }\n",
              "    </script>\n",
              "  </div>\n",
              "\n",
              "\n",
              "<div id=\"df-3b0c5dfd-e706-42d1-9445-69a05c5c1043\">\n",
              "  <button class=\"colab-df-quickchart\" onclick=\"quickchart('df-3b0c5dfd-e706-42d1-9445-69a05c5c1043')\"\n",
              "            title=\"Suggest charts\"\n",
              "            style=\"display:none;\">\n",
              "\n",
              "<svg xmlns=\"http://www.w3.org/2000/svg\" height=\"24px\"viewBox=\"0 0 24 24\"\n",
              "     width=\"24px\">\n",
              "    <g>\n",
              "        <path d=\"M19 3H5c-1.1 0-2 .9-2 2v14c0 1.1.9 2 2 2h14c1.1 0 2-.9 2-2V5c0-1.1-.9-2-2-2zM9 17H7v-7h2v7zm4 0h-2V7h2v10zm4 0h-2v-4h2v4z\"/>\n",
              "    </g>\n",
              "</svg>\n",
              "  </button>\n",
              "\n",
              "<style>\n",
              "  .colab-df-quickchart {\n",
              "      --bg-color: #E8F0FE;\n",
              "      --fill-color: #1967D2;\n",
              "      --hover-bg-color: #E2EBFA;\n",
              "      --hover-fill-color: #174EA6;\n",
              "      --disabled-fill-color: #AAA;\n",
              "      --disabled-bg-color: #DDD;\n",
              "  }\n",
              "\n",
              "  [theme=dark] .colab-df-quickchart {\n",
              "      --bg-color: #3B4455;\n",
              "      --fill-color: #D2E3FC;\n",
              "      --hover-bg-color: #434B5C;\n",
              "      --hover-fill-color: #FFFFFF;\n",
              "      --disabled-bg-color: #3B4455;\n",
              "      --disabled-fill-color: #666;\n",
              "  }\n",
              "\n",
              "  .colab-df-quickchart {\n",
              "    background-color: var(--bg-color);\n",
              "    border: none;\n",
              "    border-radius: 50%;\n",
              "    cursor: pointer;\n",
              "    display: none;\n",
              "    fill: var(--fill-color);\n",
              "    height: 32px;\n",
              "    padding: 0;\n",
              "    width: 32px;\n",
              "  }\n",
              "\n",
              "  .colab-df-quickchart:hover {\n",
              "    background-color: var(--hover-bg-color);\n",
              "    box-shadow: 0 1px 2px rgba(60, 64, 67, 0.3), 0 1px 3px 1px rgba(60, 64, 67, 0.15);\n",
              "    fill: var(--button-hover-fill-color);\n",
              "  }\n",
              "\n",
              "  .colab-df-quickchart-complete:disabled,\n",
              "  .colab-df-quickchart-complete:disabled:hover {\n",
              "    background-color: var(--disabled-bg-color);\n",
              "    fill: var(--disabled-fill-color);\n",
              "    box-shadow: none;\n",
              "  }\n",
              "\n",
              "  .colab-df-spinner {\n",
              "    border: 2px solid var(--fill-color);\n",
              "    border-color: transparent;\n",
              "    border-bottom-color: var(--fill-color);\n",
              "    animation:\n",
              "      spin 1s steps(1) infinite;\n",
              "  }\n",
              "\n",
              "  @keyframes spin {\n",
              "    0% {\n",
              "      border-color: transparent;\n",
              "      border-bottom-color: var(--fill-color);\n",
              "      border-left-color: var(--fill-color);\n",
              "    }\n",
              "    20% {\n",
              "      border-color: transparent;\n",
              "      border-left-color: var(--fill-color);\n",
              "      border-top-color: var(--fill-color);\n",
              "    }\n",
              "    30% {\n",
              "      border-color: transparent;\n",
              "      border-left-color: var(--fill-color);\n",
              "      border-top-color: var(--fill-color);\n",
              "      border-right-color: var(--fill-color);\n",
              "    }\n",
              "    40% {\n",
              "      border-color: transparent;\n",
              "      border-right-color: var(--fill-color);\n",
              "      border-top-color: var(--fill-color);\n",
              "    }\n",
              "    60% {\n",
              "      border-color: transparent;\n",
              "      border-right-color: var(--fill-color);\n",
              "    }\n",
              "    80% {\n",
              "      border-color: transparent;\n",
              "      border-right-color: var(--fill-color);\n",
              "      border-bottom-color: var(--fill-color);\n",
              "    }\n",
              "    90% {\n",
              "      border-color: transparent;\n",
              "      border-bottom-color: var(--fill-color);\n",
              "    }\n",
              "  }\n",
              "</style>\n",
              "\n",
              "  <script>\n",
              "    async function quickchart(key) {\n",
              "      const quickchartButtonEl =\n",
              "        document.querySelector('#' + key + ' button');\n",
              "      quickchartButtonEl.disabled = true;  // To prevent multiple clicks.\n",
              "      quickchartButtonEl.classList.add('colab-df-spinner');\n",
              "      try {\n",
              "        const charts = await google.colab.kernel.invokeFunction(\n",
              "            'suggestCharts', [key], {});\n",
              "      } catch (error) {\n",
              "        console.error('Error during call to suggestCharts:', error);\n",
              "      }\n",
              "      quickchartButtonEl.classList.remove('colab-df-spinner');\n",
              "      quickchartButtonEl.classList.add('colab-df-quickchart-complete');\n",
              "    }\n",
              "    (() => {\n",
              "      let quickchartButtonEl =\n",
              "        document.querySelector('#df-3b0c5dfd-e706-42d1-9445-69a05c5c1043 button');\n",
              "      quickchartButtonEl.style.display =\n",
              "        google.colab.kernel.accessAllowed ? 'block' : 'none';\n",
              "    })();\n",
              "  </script>\n",
              "</div>\n",
              "\n",
              "    </div>\n",
              "  </div>\n"
            ],
            "application/vnd.google.colaboratory.intrinsic+json": {
              "type": "dataframe",
              "variable_name": "data",
              "summary": "{\n  \"name\": \"data\",\n  \"rows\": 6263,\n  \"fields\": [\n    {\n      \"column\": \"Id\",\n      \"properties\": {\n        \"dtype\": \"number\",\n        \"std\": 1808,\n        \"min\": 1,\n        \"max\": 6263,\n        \"num_unique_values\": 6263,\n        \"samples\": [\n          2305,\n          3622,\n          5225\n        ],\n        \"semantic_type\": \"\",\n        \"description\": \"\"\n      }\n    },\n    {\n      \"column\": \"ProductId\",\n      \"properties\": {\n        \"dtype\": \"category\",\n        \"num_unique_values\": 997,\n        \"samples\": [\n          \"B002HQKRIK\",\n          \"B004LQT0JG\",\n          \"B006GK4XVA\"\n        ],\n        \"semantic_type\": \"\",\n        \"description\": \"\"\n      }\n    },\n    {\n      \"column\": \"UserId\",\n      \"properties\": {\n        \"dtype\": \"string\",\n        \"num_unique_values\": 5994,\n        \"samples\": [\n          \"A1C760KGFSRI6F\",\n          \"AC5L3IAZO1W07\",\n          \"AVFDH06FF7CGM\"\n        ],\n        \"semantic_type\": \"\",\n        \"description\": \"\"\n      }\n    },\n    {\n      \"column\": \"ProfileName\",\n      \"properties\": {\n        \"dtype\": \"string\",\n        \"num_unique_values\": 5821,\n        \"samples\": [\n          \"Mye\",\n          \"Howard M.\",\n          \"Rob Kaufman\"\n        ],\n        \"semantic_type\": \"\",\n        \"description\": \"\"\n      }\n    },\n    {\n      \"column\": \"HelpfulnessNumerator\",\n      \"properties\": {\n        \"dtype\": \"number\",\n        \"std\": 5,\n        \"min\": 0,\n        \"max\": 187,\n        \"num_unique_values\": 49,\n        \"samples\": [\n          7,\n          70,\n          48\n        ],\n        \"semantic_type\": \"\",\n        \"description\": \"\"\n      }\n    },\n    {\n      \"column\": \"HelpfulnessDenominator\",\n      \"properties\": {\n        \"dtype\": \"number\",\n        \"std\": 6,\n        \"min\": 0,\n        \"max\": 216,\n        \"num_unique_values\": 52,\n        \"samples\": [\n          11,\n          51,\n          42\n        ],\n        \"semantic_type\": \"\",\n        \"description\": \"\"\n      }\n    },\n    {\n      \"column\": \"Score\",\n      \"properties\": {\n        \"dtype\": \"number\",\n        \"std\": 1,\n        \"min\": 1,\n        \"max\": 5,\n        \"num_unique_values\": 5,\n        \"samples\": [\n          1,\n          3,\n          4\n        ],\n        \"semantic_type\": \"\",\n        \"description\": \"\"\n      }\n    },\n    {\n      \"column\": \"Time\",\n      \"properties\": {\n        \"dtype\": \"number\",\n        \"std\": 47703843,\n        \"min\": 961718400,\n        \"max\": 1351209600,\n        \"num_unique_values\": 1744,\n        \"samples\": [\n          1297641600,\n          1280188800,\n          1173312000\n        ],\n        \"semantic_type\": \"\",\n        \"description\": \"\"\n      }\n    },\n    {\n      \"column\": \"Summary\",\n      \"properties\": {\n        \"dtype\": \"string\",\n        \"num_unique_values\": 5672,\n        \"samples\": [\n          \"Mini Lollipops\",\n          \"Eco sugar\",\n          \"Pop Chips...Yummy!\"\n        ],\n        \"semantic_type\": \"\",\n        \"description\": \"\"\n      }\n    },\n    {\n      \"column\": \"Text\",\n      \"properties\": {\n        \"dtype\": \"string\",\n        \"num_unique_values\": 6239,\n        \"samples\": [\n          \"This product tastes like muddy water maybe because it is out of date!?!  I don't know but I'll not buy this again.\",\n          \"These chips are incredible! Enough can't be said about them. They are better than potato chips and without the guilt of fat and calories!\",\n          \"I looked forward to a delicious hot cocoa, but was very disappointed with the flavor. It has an awful aftertaste, like the taste you get after drinking a bad diet soda. Also kind of weak, even on the smallest cup setting.\"\n        ],\n        \"semantic_type\": \"\",\n        \"description\": \"\"\n      }\n    },\n    {\n      \"column\": \"Sentiment\",\n      \"properties\": {\n        \"dtype\": \"category\",\n        \"num_unique_values\": 3,\n        \"samples\": [\n          \"Positive\",\n          \"Negative\",\n          \"Nuetral\"\n        ],\n        \"semantic_type\": \"\",\n        \"description\": \"\"\n      }\n    }\n  ]\n}"
            }
          },
          "metadata": {},
          "execution_count": 55
        }
      ],
      "source": [
        "data.head()"
      ]
    },
    {
      "cell_type": "code",
      "execution_count": 5,
      "id": "59e4c5d6-4d17-4903-9cda-e5cc1d01736a",
      "metadata": {
        "colab": {
          "base_uri": "https://localhost:8080/",
          "height": 53
        },
        "id": "59e4c5d6-4d17-4903-9cda-e5cc1d01736a",
        "outputId": "4794e57c-6170-443d-db5e-150911803a86"
      },
      "outputs": [
        {
          "output_type": "execute_result",
          "data": {
            "text/plain": [
              "'I have bought several of the Vitality canned dog food products and have found them all to be of good quality. The product looks more like a stew than a processed meat and it smells better. My Labrador is finicky and she appreciates this product better than  most.'"
            ],
            "application/vnd.google.colaboratory.intrinsic+json": {
              "type": "string"
            }
          },
          "metadata": {},
          "execution_count": 5
        }
      ],
      "source": [
        "data['Text'].values[0]"
      ]
    },
    {
      "cell_type": "code",
      "source": [],
      "metadata": {
        "id": "MQUVa3JiNI9n"
      },
      "id": "MQUVa3JiNI9n",
      "execution_count": null,
      "outputs": []
    },
    {
      "cell_type": "code",
      "execution_count": 6,
      "id": "4f2ab626-7477-4821-9947-7d5a65df3e4e",
      "metadata": {
        "id": "4f2ab626-7477-4821-9947-7d5a65df3e4e"
      },
      "outputs": [],
      "source": [
        "data['Sentiment']=pd.cut(data['Score'], bins=[0,2,3,5], labels=['Negative', 'Nuetral', 'Positive'])"
      ]
    },
    {
      "cell_type": "code",
      "execution_count": 7,
      "id": "2a5d1279-3146-4ae3-a7cd-523b4caeae9a",
      "metadata": {
        "id": "2a5d1279-3146-4ae3-a7cd-523b4caeae9a"
      },
      "outputs": [],
      "source": [
        "def clean(text):\n",
        "    text=str(text).lower()\n",
        "     # Remove text within square brackets\n",
        "    text=re.sub('\\[.*?\\]','',text)\n",
        "    # Remove URLs\n",
        "    text=re.sub('https?://\\S+|www\\.\\S+','',text)\n",
        "    # Remove HTML tags\n",
        "    text = re.sub('<.*?>+', '', text)\n",
        "    #  Removing Punctuation\n",
        "    text = re.sub(r'[^\\w\\s]', '', text)\n",
        "    # Replace newline characters with spaces\n",
        "    text = re.sub('\\n', '', text)\n",
        "    # Remove words containing digits\n",
        "    text = re.sub('\\w*\\d\\w*', '', text)\n",
        "     # Tokenize the text and remove stopwords\n",
        "    text = [word for word in text.split(' ') if word not in stopwords]\n",
        "    text=\" \".join(text)\n",
        "    # Stem the remaining words\n",
        "    text = [stemmer.stem(word) for word in text.split(' ')]\n",
        "    # Join the cleaned and stemmed words back into a string\n",
        "    text=\" \".join(text)\n",
        "    return text"
      ]
    },
    {
      "cell_type": "code",
      "execution_count": 8,
      "id": "e95470ef-1d83-414c-98ac-b868ed4f8b28",
      "metadata": {
        "colab": {
          "base_uri": "https://localhost:8080/",
          "height": 70
        },
        "id": "e95470ef-1d83-414c-98ac-b868ed4f8b28",
        "outputId": "bc6c6b54-e62d-4a3f-d1f0-bd6f7debc72a"
      },
      "outputs": [
        {
          "output_type": "execute_result",
          "data": {
            "text/plain": [
              "'       bought sever vital can        product arriv label jumbo salt        confect around        look secret ingredi        great taffi great price  wid                                                          sleepytim tea one tea     valerian chamomil blend     wonder producti drink     product great  daughter                                                   nannam text length  dtype object'"
            ],
            "application/vnd.google.colaboratory.intrinsic+json": {
              "type": "string"
            }
          },
          "metadata": {},
          "execution_count": 8
        }
      ],
      "source": [
        "clean(data['Text'])"
      ]
    },
    {
      "cell_type": "code",
      "execution_count": 9,
      "id": "bf79b9ab-dbff-4aae-8320-3402a5897698",
      "metadata": {
        "colab": {
          "base_uri": "https://localhost:8080/",
          "height": 423
        },
        "id": "bf79b9ab-dbff-4aae-8320-3402a5897698",
        "outputId": "c8f2ab6d-12ec-4a99-b6b2-c668854d6968"
      },
      "outputs": [
        {
          "output_type": "execute_result",
          "data": {
            "text/plain": [
              "                                                   Text     Score\n",
              "0     bought sever vital can dog food product found ...  Positive\n",
              "1     product arriv label jumbo salt peanutsth peanu...  Negative\n",
              "2     confect around centuri  light pillowi citrus g...  Positive\n",
              "3     look secret ingredi robitussin believ found  g...  Negative\n",
              "4     great taffi great price  wide assort yummi taf...  Positive\n",
              "...                                                 ...       ...\n",
              "6258  sleepytim tea one tea alway count mellow great...  Positive\n",
              "6259  valerian chamomil blend spearmint leav lemon g...  Positive\n",
              "6260  wonder producti drink time day obvious origin ...  Positive\n",
              "6261  product great  daughter extrem pick love also ...  Positive\n",
              "6262                                                nan  Positive\n",
              "\n",
              "[6263 rows x 2 columns]"
            ],
            "text/html": [
              "\n",
              "  <div id=\"df-f4998dcf-20b3-4e5a-8fd1-1b66ff4cd7b8\" class=\"colab-df-container\">\n",
              "    <div>\n",
              "<style scoped>\n",
              "    .dataframe tbody tr th:only-of-type {\n",
              "        vertical-align: middle;\n",
              "    }\n",
              "\n",
              "    .dataframe tbody tr th {\n",
              "        vertical-align: top;\n",
              "    }\n",
              "\n",
              "    .dataframe thead th {\n",
              "        text-align: right;\n",
              "    }\n",
              "</style>\n",
              "<table border=\"1\" class=\"dataframe\">\n",
              "  <thead>\n",
              "    <tr style=\"text-align: right;\">\n",
              "      <th></th>\n",
              "      <th>Text</th>\n",
              "      <th>Score</th>\n",
              "    </tr>\n",
              "  </thead>\n",
              "  <tbody>\n",
              "    <tr>\n",
              "      <th>0</th>\n",
              "      <td>bought sever vital can dog food product found ...</td>\n",
              "      <td>Positive</td>\n",
              "    </tr>\n",
              "    <tr>\n",
              "      <th>1</th>\n",
              "      <td>product arriv label jumbo salt peanutsth peanu...</td>\n",
              "      <td>Negative</td>\n",
              "    </tr>\n",
              "    <tr>\n",
              "      <th>2</th>\n",
              "      <td>confect around centuri  light pillowi citrus g...</td>\n",
              "      <td>Positive</td>\n",
              "    </tr>\n",
              "    <tr>\n",
              "      <th>3</th>\n",
              "      <td>look secret ingredi robitussin believ found  g...</td>\n",
              "      <td>Negative</td>\n",
              "    </tr>\n",
              "    <tr>\n",
              "      <th>4</th>\n",
              "      <td>great taffi great price  wide assort yummi taf...</td>\n",
              "      <td>Positive</td>\n",
              "    </tr>\n",
              "    <tr>\n",
              "      <th>...</th>\n",
              "      <td>...</td>\n",
              "      <td>...</td>\n",
              "    </tr>\n",
              "    <tr>\n",
              "      <th>6258</th>\n",
              "      <td>sleepytim tea one tea alway count mellow great...</td>\n",
              "      <td>Positive</td>\n",
              "    </tr>\n",
              "    <tr>\n",
              "      <th>6259</th>\n",
              "      <td>valerian chamomil blend spearmint leav lemon g...</td>\n",
              "      <td>Positive</td>\n",
              "    </tr>\n",
              "    <tr>\n",
              "      <th>6260</th>\n",
              "      <td>wonder producti drink time day obvious origin ...</td>\n",
              "      <td>Positive</td>\n",
              "    </tr>\n",
              "    <tr>\n",
              "      <th>6261</th>\n",
              "      <td>product great  daughter extrem pick love also ...</td>\n",
              "      <td>Positive</td>\n",
              "    </tr>\n",
              "    <tr>\n",
              "      <th>6262</th>\n",
              "      <td>nan</td>\n",
              "      <td>Positive</td>\n",
              "    </tr>\n",
              "  </tbody>\n",
              "</table>\n",
              "<p>6263 rows × 2 columns</p>\n",
              "</div>\n",
              "    <div class=\"colab-df-buttons\">\n",
              "\n",
              "  <div class=\"colab-df-container\">\n",
              "    <button class=\"colab-df-convert\" onclick=\"convertToInteractive('df-f4998dcf-20b3-4e5a-8fd1-1b66ff4cd7b8')\"\n",
              "            title=\"Convert this dataframe to an interactive table.\"\n",
              "            style=\"display:none;\">\n",
              "\n",
              "  <svg xmlns=\"http://www.w3.org/2000/svg\" height=\"24px\" viewBox=\"0 -960 960 960\">\n",
              "    <path d=\"M120-120v-720h720v720H120Zm60-500h600v-160H180v160Zm220 220h160v-160H400v160Zm0 220h160v-160H400v160ZM180-400h160v-160H180v160Zm440 0h160v-160H620v160ZM180-180h160v-160H180v160Zm440 0h160v-160H620v160Z\"/>\n",
              "  </svg>\n",
              "    </button>\n",
              "\n",
              "  <style>\n",
              "    .colab-df-container {\n",
              "      display:flex;\n",
              "      gap: 12px;\n",
              "    }\n",
              "\n",
              "    .colab-df-convert {\n",
              "      background-color: #E8F0FE;\n",
              "      border: none;\n",
              "      border-radius: 50%;\n",
              "      cursor: pointer;\n",
              "      display: none;\n",
              "      fill: #1967D2;\n",
              "      height: 32px;\n",
              "      padding: 0 0 0 0;\n",
              "      width: 32px;\n",
              "    }\n",
              "\n",
              "    .colab-df-convert:hover {\n",
              "      background-color: #E2EBFA;\n",
              "      box-shadow: 0px 1px 2px rgba(60, 64, 67, 0.3), 0px 1px 3px 1px rgba(60, 64, 67, 0.15);\n",
              "      fill: #174EA6;\n",
              "    }\n",
              "\n",
              "    .colab-df-buttons div {\n",
              "      margin-bottom: 4px;\n",
              "    }\n",
              "\n",
              "    [theme=dark] .colab-df-convert {\n",
              "      background-color: #3B4455;\n",
              "      fill: #D2E3FC;\n",
              "    }\n",
              "\n",
              "    [theme=dark] .colab-df-convert:hover {\n",
              "      background-color: #434B5C;\n",
              "      box-shadow: 0px 1px 3px 1px rgba(0, 0, 0, 0.15);\n",
              "      filter: drop-shadow(0px 1px 2px rgba(0, 0, 0, 0.3));\n",
              "      fill: #FFFFFF;\n",
              "    }\n",
              "  </style>\n",
              "\n",
              "    <script>\n",
              "      const buttonEl =\n",
              "        document.querySelector('#df-f4998dcf-20b3-4e5a-8fd1-1b66ff4cd7b8 button.colab-df-convert');\n",
              "      buttonEl.style.display =\n",
              "        google.colab.kernel.accessAllowed ? 'block' : 'none';\n",
              "\n",
              "      async function convertToInteractive(key) {\n",
              "        const element = document.querySelector('#df-f4998dcf-20b3-4e5a-8fd1-1b66ff4cd7b8');\n",
              "        const dataTable =\n",
              "          await google.colab.kernel.invokeFunction('convertToInteractive',\n",
              "                                                    [key], {});\n",
              "        if (!dataTable) return;\n",
              "\n",
              "        const docLinkHtml = 'Like what you see? Visit the ' +\n",
              "          '<a target=\"_blank\" href=https://colab.research.google.com/notebooks/data_table.ipynb>data table notebook</a>'\n",
              "          + ' to learn more about interactive tables.';\n",
              "        element.innerHTML = '';\n",
              "        dataTable['output_type'] = 'display_data';\n",
              "        await google.colab.output.renderOutput(dataTable, element);\n",
              "        const docLink = document.createElement('div');\n",
              "        docLink.innerHTML = docLinkHtml;\n",
              "        element.appendChild(docLink);\n",
              "      }\n",
              "    </script>\n",
              "  </div>\n",
              "\n",
              "\n",
              "<div id=\"df-8ca90504-1cab-4db4-ba3e-c4eccbcb9862\">\n",
              "  <button class=\"colab-df-quickchart\" onclick=\"quickchart('df-8ca90504-1cab-4db4-ba3e-c4eccbcb9862')\"\n",
              "            title=\"Suggest charts\"\n",
              "            style=\"display:none;\">\n",
              "\n",
              "<svg xmlns=\"http://www.w3.org/2000/svg\" height=\"24px\"viewBox=\"0 0 24 24\"\n",
              "     width=\"24px\">\n",
              "    <g>\n",
              "        <path d=\"M19 3H5c-1.1 0-2 .9-2 2v14c0 1.1.9 2 2 2h14c1.1 0 2-.9 2-2V5c0-1.1-.9-2-2-2zM9 17H7v-7h2v7zm4 0h-2V7h2v10zm4 0h-2v-4h2v4z\"/>\n",
              "    </g>\n",
              "</svg>\n",
              "  </button>\n",
              "\n",
              "<style>\n",
              "  .colab-df-quickchart {\n",
              "      --bg-color: #E8F0FE;\n",
              "      --fill-color: #1967D2;\n",
              "      --hover-bg-color: #E2EBFA;\n",
              "      --hover-fill-color: #174EA6;\n",
              "      --disabled-fill-color: #AAA;\n",
              "      --disabled-bg-color: #DDD;\n",
              "  }\n",
              "\n",
              "  [theme=dark] .colab-df-quickchart {\n",
              "      --bg-color: #3B4455;\n",
              "      --fill-color: #D2E3FC;\n",
              "      --hover-bg-color: #434B5C;\n",
              "      --hover-fill-color: #FFFFFF;\n",
              "      --disabled-bg-color: #3B4455;\n",
              "      --disabled-fill-color: #666;\n",
              "  }\n",
              "\n",
              "  .colab-df-quickchart {\n",
              "    background-color: var(--bg-color);\n",
              "    border: none;\n",
              "    border-radius: 50%;\n",
              "    cursor: pointer;\n",
              "    display: none;\n",
              "    fill: var(--fill-color);\n",
              "    height: 32px;\n",
              "    padding: 0;\n",
              "    width: 32px;\n",
              "  }\n",
              "\n",
              "  .colab-df-quickchart:hover {\n",
              "    background-color: var(--hover-bg-color);\n",
              "    box-shadow: 0 1px 2px rgba(60, 64, 67, 0.3), 0 1px 3px 1px rgba(60, 64, 67, 0.15);\n",
              "    fill: var(--button-hover-fill-color);\n",
              "  }\n",
              "\n",
              "  .colab-df-quickchart-complete:disabled,\n",
              "  .colab-df-quickchart-complete:disabled:hover {\n",
              "    background-color: var(--disabled-bg-color);\n",
              "    fill: var(--disabled-fill-color);\n",
              "    box-shadow: none;\n",
              "  }\n",
              "\n",
              "  .colab-df-spinner {\n",
              "    border: 2px solid var(--fill-color);\n",
              "    border-color: transparent;\n",
              "    border-bottom-color: var(--fill-color);\n",
              "    animation:\n",
              "      spin 1s steps(1) infinite;\n",
              "  }\n",
              "\n",
              "  @keyframes spin {\n",
              "    0% {\n",
              "      border-color: transparent;\n",
              "      border-bottom-color: var(--fill-color);\n",
              "      border-left-color: var(--fill-color);\n",
              "    }\n",
              "    20% {\n",
              "      border-color: transparent;\n",
              "      border-left-color: var(--fill-color);\n",
              "      border-top-color: var(--fill-color);\n",
              "    }\n",
              "    30% {\n",
              "      border-color: transparent;\n",
              "      border-left-color: var(--fill-color);\n",
              "      border-top-color: var(--fill-color);\n",
              "      border-right-color: var(--fill-color);\n",
              "    }\n",
              "    40% {\n",
              "      border-color: transparent;\n",
              "      border-right-color: var(--fill-color);\n",
              "      border-top-color: var(--fill-color);\n",
              "    }\n",
              "    60% {\n",
              "      border-color: transparent;\n",
              "      border-right-color: var(--fill-color);\n",
              "    }\n",
              "    80% {\n",
              "      border-color: transparent;\n",
              "      border-right-color: var(--fill-color);\n",
              "      border-bottom-color: var(--fill-color);\n",
              "    }\n",
              "    90% {\n",
              "      border-color: transparent;\n",
              "      border-bottom-color: var(--fill-color);\n",
              "    }\n",
              "  }\n",
              "</style>\n",
              "\n",
              "  <script>\n",
              "    async function quickchart(key) {\n",
              "      const quickchartButtonEl =\n",
              "        document.querySelector('#' + key + ' button');\n",
              "      quickchartButtonEl.disabled = true;  // To prevent multiple clicks.\n",
              "      quickchartButtonEl.classList.add('colab-df-spinner');\n",
              "      try {\n",
              "        const charts = await google.colab.kernel.invokeFunction(\n",
              "            'suggestCharts', [key], {});\n",
              "      } catch (error) {\n",
              "        console.error('Error during call to suggestCharts:', error);\n",
              "      }\n",
              "      quickchartButtonEl.classList.remove('colab-df-spinner');\n",
              "      quickchartButtonEl.classList.add('colab-df-quickchart-complete');\n",
              "    }\n",
              "    (() => {\n",
              "      let quickchartButtonEl =\n",
              "        document.querySelector('#df-8ca90504-1cab-4db4-ba3e-c4eccbcb9862 button');\n",
              "      quickchartButtonEl.style.display =\n",
              "        google.colab.kernel.accessAllowed ? 'block' : 'none';\n",
              "    })();\n",
              "  </script>\n",
              "</div>\n",
              "\n",
              "  <div id=\"id_52083c9f-d03f-4f96-8927-d9efa8b3208c\">\n",
              "    <style>\n",
              "      .colab-df-generate {\n",
              "        background-color: #E8F0FE;\n",
              "        border: none;\n",
              "        border-radius: 50%;\n",
              "        cursor: pointer;\n",
              "        display: none;\n",
              "        fill: #1967D2;\n",
              "        height: 32px;\n",
              "        padding: 0 0 0 0;\n",
              "        width: 32px;\n",
              "      }\n",
              "\n",
              "      .colab-df-generate:hover {\n",
              "        background-color: #E2EBFA;\n",
              "        box-shadow: 0px 1px 2px rgba(60, 64, 67, 0.3), 0px 1px 3px 1px rgba(60, 64, 67, 0.15);\n",
              "        fill: #174EA6;\n",
              "      }\n",
              "\n",
              "      [theme=dark] .colab-df-generate {\n",
              "        background-color: #3B4455;\n",
              "        fill: #D2E3FC;\n",
              "      }\n",
              "\n",
              "      [theme=dark] .colab-df-generate:hover {\n",
              "        background-color: #434B5C;\n",
              "        box-shadow: 0px 1px 3px 1px rgba(0, 0, 0, 0.15);\n",
              "        filter: drop-shadow(0px 1px 2px rgba(0, 0, 0, 0.3));\n",
              "        fill: #FFFFFF;\n",
              "      }\n",
              "    </style>\n",
              "    <button class=\"colab-df-generate\" onclick=\"generateWithVariable('data_cleaned')\"\n",
              "            title=\"Generate code using this dataframe.\"\n",
              "            style=\"display:none;\">\n",
              "\n",
              "  <svg xmlns=\"http://www.w3.org/2000/svg\" height=\"24px\"viewBox=\"0 0 24 24\"\n",
              "       width=\"24px\">\n",
              "    <path d=\"M7,19H8.4L18.45,9,17,7.55,7,17.6ZM5,21V16.75L18.45,3.32a2,2,0,0,1,2.83,0l1.4,1.43a1.91,1.91,0,0,1,.58,1.4,1.91,1.91,0,0,1-.58,1.4L9.25,21ZM18.45,9,17,7.55Zm-12,3A5.31,5.31,0,0,0,4.9,8.1,5.31,5.31,0,0,0,1,6.5,5.31,5.31,0,0,0,4.9,4.9,5.31,5.31,0,0,0,6.5,1,5.31,5.31,0,0,0,8.1,4.9,5.31,5.31,0,0,0,12,6.5,5.46,5.46,0,0,0,6.5,12Z\"/>\n",
              "  </svg>\n",
              "    </button>\n",
              "    <script>\n",
              "      (() => {\n",
              "      const buttonEl =\n",
              "        document.querySelector('#id_52083c9f-d03f-4f96-8927-d9efa8b3208c button.colab-df-generate');\n",
              "      buttonEl.style.display =\n",
              "        google.colab.kernel.accessAllowed ? 'block' : 'none';\n",
              "\n",
              "      buttonEl.onclick = () => {\n",
              "        google.colab.notebook.generateWithVariable('data_cleaned');\n",
              "      }\n",
              "      })();\n",
              "    </script>\n",
              "  </div>\n",
              "\n",
              "    </div>\n",
              "  </div>\n"
            ],
            "application/vnd.google.colaboratory.intrinsic+json": {
              "type": "dataframe",
              "variable_name": "data_cleaned",
              "summary": "{\n  \"name\": \"data_cleaned\",\n  \"rows\": 6263,\n  \"fields\": [\n    {\n      \"column\": \"Text\",\n      \"properties\": {\n        \"dtype\": \"string\",\n        \"num_unique_values\": 6240,\n        \"samples\": [\n          \"sinc will tri alot new thing thought would buy product sinc like hot cocoa bought  box worst thing could done bland littl flavour also graini textur near bottom mugperson buy product stay swiss miss anoth hot cocoa brand keurig kcup\",\n          \"pop chip best chip ive long time  im weight watcher satisfi salti crave get chip ticket  point  buy case averag think   bad\",\n          \"oki bought bisquick gf first thing tri make drop biscuit recip list box  kind roll  cutthes drop biscuit  result tasti  tast gf bisquick much like origin tast tart origin  want similar buttermilk tast need use buttermilk instead milk biscuit recip  notic someth els odd might problem anyon new cook seem amount mix call quit right  read side box claim   cup mix box  serv  cup  biscuit recip call  cup mix measur heap teaspoon measur cup dont even cup mix left bag  know mix doesnt wheat flour mayb kind flour measur differ mayb dug bag cup would use less recip came right  must misprint box  assum measur proper biscuit dip gravi smother butter  jam slice make yummi mcdonald breakfast sandwich follow instruct lot biscuit  singl cook two might want cut recip half  still plenti wont go box quick  mix cost around  dont enough left make anyth els without buy anoth box biscuit realli realli good  still watch budget dont prepar needabout biscuit  yummi fair golden recip call egg slice crumbl edg like gluten one  without egg probabl wont get nice eyeapp color  even though drop biscuit still cutin shorten margarin dont cutter need use long fork  difficult celiac crave biscuit buy cutter  cost much box mix  biscuit recip also call milk want nice tart tast reminisc origin bisquick need use buttermilkth mix made rice flour sugar leaven potato starch salt  xanthum gum  mani mix goodi made rice flour tast graini  bisquick done fantast job rice flour  graini repeat graini  new celiac cook use starch corn potato tapioca normal add light bake item wouldnt possibl rice flour alon  leaven simpli bake soda powder necessari rise  sugar salt flavor consist  yes necessari  xanthum gum perfect natur ingredi give celiacsaf bake good bit elast act replac gluten  find xanthum gum everi bake goodi made peopl celiac diseas  make mix spend less money  sure difficult time find rice flour fine ground rice flour predomin main ingredi mixth recip list box pancak waffl strawberri shortcak pizza crust ultim chicken finger oven bake chicken  find recip websitei recommend product tast  wish mix box price\"\n        ],\n        \"semantic_type\": \"\",\n        \"description\": \"\"\n      }\n    },\n    {\n      \"column\": \"Score\",\n      \"properties\": {\n        \"dtype\": \"category\",\n        \"num_unique_values\": 3,\n        \"samples\": [\n          \"Positive\",\n          \"Negative\",\n          \"Nuetral\"\n        ],\n        \"semantic_type\": \"\",\n        \"description\": \"\"\n      }\n    }\n  ]\n}"
            }
          },
          "metadata": {},
          "execution_count": 9
        }
      ],
      "source": [
        "data_cleaned=pd.DataFrame()\n",
        "data_cleaned['Text']=data[\"Text\"].apply(clean)\n",
        "data_cleaned['Score']=data['Sentiment']\n",
        "data_cleaned"
      ]
    },
    {
      "cell_type": "code",
      "execution_count": 10,
      "id": "631b6d62-8adf-4b73-993b-c89228402590",
      "metadata": {
        "id": "631b6d62-8adf-4b73-993b-c89228402590"
      },
      "outputs": [],
      "source": [
        "text=data_cleaned['Text'].values"
      ]
    },
    {
      "cell_type": "code",
      "execution_count": 11,
      "id": "e3094d32-2383-4ebf-86a7-a59bc7ac16d4",
      "metadata": {
        "id": "e3094d32-2383-4ebf-86a7-a59bc7ac16d4"
      },
      "outputs": [],
      "source": [
        "max_features=5000\n",
        "tokenizer = Tokenizer(num_words=max_features)\n",
        "tokenizer.fit_on_texts(text)\n",
        "# tokenizes the input text data into sequences of integer indices\n",
        "sequences = tokenizer.texts_to_sequences(text)"
      ]
    },
    {
      "cell_type": "code",
      "execution_count": 12,
      "id": "812043c1-9cc8-4f26-a2b0-8bfc33cb58d0",
      "metadata": {
        "id": "812043c1-9cc8-4f26-a2b0-8bfc33cb58d0"
      },
      "outputs": [],
      "source": [
        "x=sequences\n",
        "x= pad_sequences(x)"
      ]
    },
    {
      "cell_type": "code",
      "execution_count": 14,
      "id": "3fa7a987-5ae9-40e5-9d47-0539931a961f",
      "metadata": {
        "colab": {
          "base_uri": "https://localhost:8080/"
        },
        "id": "3fa7a987-5ae9-40e5-9d47-0539931a961f",
        "outputId": "b69935fe-708f-4109-fd0d-a1bb961adc25"
      },
      "outputs": [
        {
          "output_type": "execute_result",
          "data": {
            "text/plain": [
              "array([[   0,    0,    0, ...,  921,    5,   35],\n",
              "       [   0,    0,    0, ..., 2455,    5, 3885],\n",
              "       [   0,    0,    0, ..., 1080, 1356, 4709],\n",
              "       ...,\n",
              "       [   0,    0,    0, ...,    9,   45, 4363],\n",
              "       [   0,    0,    0, ...,   99, 2418,  389],\n",
              "       [   0,    0,    0, ...,    0,    0,    0]], dtype=int32)"
            ]
          },
          "metadata": {},
          "execution_count": 14
        }
      ],
      "source": [
        "x"
      ]
    },
    {
      "cell_type": "code",
      "execution_count": 13,
      "id": "e8fd6244-44db-49a9-aa86-549cb4a16f1c",
      "metadata": {
        "id": "e8fd6244-44db-49a9-aa86-549cb4a16f1c"
      },
      "outputs": [],
      "source": [
        "y=data_cleaned['Score']"
      ]
    },
    {
      "cell_type": "code",
      "execution_count": 15,
      "id": "4b8225ed-ac8f-4e36-88e5-27c264294d49",
      "metadata": {
        "colab": {
          "base_uri": "https://localhost:8080/"
        },
        "id": "4b8225ed-ac8f-4e36-88e5-27c264294d49",
        "outputId": "a9780fa0-eba0-4d28-eca7-2dee8f3b56a9"
      },
      "outputs": [
        {
          "output_type": "execute_result",
          "data": {
            "text/plain": [
              "0       Positive\n",
              "1       Negative\n",
              "2       Positive\n",
              "3       Negative\n",
              "4       Positive\n",
              "          ...   \n",
              "6258    Positive\n",
              "6259    Positive\n",
              "6260    Positive\n",
              "6261    Positive\n",
              "6262    Positive\n",
              "Name: Score, Length: 6263, dtype: category\n",
              "Categories (3, object): ['Negative' < 'Nuetral' < 'Positive']"
            ]
          },
          "metadata": {},
          "execution_count": 15
        }
      ],
      "source": [
        "y"
      ]
    },
    {
      "cell_type": "code",
      "execution_count": 16,
      "id": "a0fb892a-e9d6-4257-b9a1-235e1cf394a0",
      "metadata": {
        "id": "a0fb892a-e9d6-4257-b9a1-235e1cf394a0"
      },
      "outputs": [],
      "source": [
        "tokens = []\n",
        "for sentence in text:\n",
        "    tokens.extend(sentence.split())"
      ]
    },
    {
      "cell_type": "code",
      "execution_count": 17,
      "id": "a3eb2f58-db3a-4b02-b2c7-37f968fa9e88",
      "metadata": {
        "id": "a3eb2f58-db3a-4b02-b2c7-37f968fa9e88"
      },
      "outputs": [],
      "source": [
        "word_count = {}\n",
        "for token in tokens:\n",
        "    if token in word_count:\n",
        "        word_count[token] += 1\n",
        "    else:\n",
        "        word_count[token] = 1"
      ]
    },
    {
      "cell_type": "code",
      "execution_count": 18,
      "id": "476518ce-a4c2-4dc6-88ca-bdc549c860e7",
      "metadata": {
        "id": "476518ce-a4c2-4dc6-88ca-bdc549c860e7"
      },
      "outputs": [],
      "source": [
        "y=pd.get_dummies(data_cleaned['Score']).values\n",
        "X_train, X_test, Y_train, Y_test = train_test_split(x,y, test_size = 0.33, random_state = 42)"
      ]
    },
    {
      "cell_type": "code",
      "source": [
        "y"
      ],
      "metadata": {
        "colab": {
          "base_uri": "https://localhost:8080/"
        },
        "id": "DjR4y6NoOO4e",
        "outputId": "a9eb671c-cf93-400b-acb1-7988f80f18de"
      },
      "id": "DjR4y6NoOO4e",
      "execution_count": 29,
      "outputs": [
        {
          "output_type": "execute_result",
          "data": {
            "text/plain": [
              "array([[False, False,  True],\n",
              "       [ True, False, False],\n",
              "       [False, False,  True],\n",
              "       ...,\n",
              "       [False, False,  True],\n",
              "       [False, False,  True],\n",
              "       [False, False,  True]])"
            ]
          },
          "metadata": {},
          "execution_count": 29
        }
      ]
    },
    {
      "cell_type": "code",
      "execution_count": 22,
      "id": "f48996c8-795a-42ec-b0b2-a6bed6469ca3",
      "metadata": {
        "id": "f48996c8-795a-42ec-b0b2-a6bed6469ca3"
      },
      "outputs": [],
      "source": [
        "vocab_size = len(word_count)"
      ]
    },
    {
      "cell_type": "code",
      "execution_count": 23,
      "id": "89127392-cc9a-4631-a97a-11f5f27528e7",
      "metadata": {
        "id": "89127392-cc9a-4631-a97a-11f5f27528e7"
      },
      "outputs": [],
      "source": [
        "model = Sequential([\n",
        "    tf.keras.layers.Embedding(vocab_size, output_dim=50),\n",
        "    tf.keras.layers.LSTM(50),\n",
        "    tf.keras.layers.Dense(3, activation='softmax')\n",
        "])"
      ]
    },
    {
      "cell_type": "code",
      "execution_count": 24,
      "id": "8fabb4af-9225-44ea-8249-3971662f9f52",
      "metadata": {
        "id": "8fabb4af-9225-44ea-8249-3971662f9f52"
      },
      "outputs": [],
      "source": [
        "model.compile(loss = 'categorical_crossentropy', optimizer='adam',metrics = ['accuracy'])"
      ]
    },
    {
      "cell_type": "code",
      "execution_count": 25,
      "id": "71f783f1-7e80-4100-86fe-165a19071f79",
      "metadata": {
        "colab": {
          "base_uri": "https://localhost:8080/"
        },
        "id": "71f783f1-7e80-4100-86fe-165a19071f79",
        "outputId": "0d1ead61-91bb-4c58-fd45-b19aaaabac82"
      },
      "outputs": [
        {
          "output_type": "stream",
          "name": "stdout",
          "text": [
            "Model: \"sequential\"\n",
            "_________________________________________________________________\n",
            " Layer (type)                Output Shape              Param #   \n",
            "=================================================================\n",
            " embedding (Embedding)       (None, None, 50)          734050    \n",
            "                                                                 \n",
            " lstm (LSTM)                 (None, 50)                20200     \n",
            "                                                                 \n",
            " dense (Dense)               (None, 3)                 153       \n",
            "                                                                 \n",
            "=================================================================\n",
            "Total params: 754403 (2.88 MB)\n",
            "Trainable params: 754403 (2.88 MB)\n",
            "Non-trainable params: 0 (0.00 Byte)\n",
            "_________________________________________________________________\n",
            "None\n"
          ]
        }
      ],
      "source": [
        "print(model.summary())"
      ]
    },
    {
      "cell_type": "code",
      "execution_count": 26,
      "id": "464bf9e8-792f-48ee-a287-6668eb8a9793",
      "metadata": {
        "colab": {
          "base_uri": "https://localhost:8080/"
        },
        "id": "464bf9e8-792f-48ee-a287-6668eb8a9793",
        "outputId": "f44d5299-4539-4412-f03b-4c16090686b1"
      },
      "outputs": [
        {
          "output_type": "stream",
          "name": "stdout",
          "text": [
            "Epoch 1/15\n",
            "42/42 - 11s - loss: 0.7888 - accuracy: 0.7519 - 11s/epoch - 257ms/step\n",
            "Epoch 2/15\n",
            "42/42 - 7s - loss: 0.6008 - accuracy: 0.7695 - 7s/epoch - 159ms/step\n",
            "Epoch 3/15\n",
            "42/42 - 5s - loss: 0.4449 - accuracy: 0.8258 - 5s/epoch - 108ms/step\n",
            "Epoch 4/15\n",
            "42/42 - 6s - loss: 0.3373 - accuracy: 0.8699 - 6s/epoch - 134ms/step\n",
            "Epoch 5/15\n",
            "42/42 - 5s - loss: 0.2611 - accuracy: 0.8954 - 5s/epoch - 107ms/step\n",
            "Epoch 6/15\n",
            "42/42 - 3s - loss: 0.2052 - accuracy: 0.9130 - 3s/epoch - 76ms/step\n",
            "Epoch 7/15\n",
            "42/42 - 4s - loss: 0.1662 - accuracy: 0.9321 - 4s/epoch - 101ms/step\n",
            "Epoch 8/15\n",
            "42/42 - 3s - loss: 0.1248 - accuracy: 0.9626 - 3s/epoch - 79ms/step\n",
            "Epoch 9/15\n",
            "42/42 - 2s - loss: 0.0860 - accuracy: 0.9769 - 2s/epoch - 51ms/step\n",
            "Epoch 10/15\n",
            "42/42 - 3s - loss: 0.0588 - accuracy: 0.9859 - 3s/epoch - 80ms/step\n",
            "Epoch 11/15\n",
            "42/42 - 2s - loss: 0.0485 - accuracy: 0.9883 - 2s/epoch - 47ms/step\n",
            "Epoch 12/15\n",
            "42/42 - 2s - loss: 0.0275 - accuracy: 0.9948 - 2s/epoch - 56ms/step\n",
            "Epoch 13/15\n",
            "42/42 - 1s - loss: 0.0203 - accuracy: 0.9950 - 1s/epoch - 32ms/step\n",
            "Epoch 14/15\n",
            "42/42 - 2s - loss: 0.0268 - accuracy: 0.9936 - 2s/epoch - 42ms/step\n",
            "Epoch 15/15\n",
            "42/42 - 1s - loss: 0.0195 - accuracy: 0.9950 - 1s/epoch - 33ms/step\n"
          ]
        },
        {
          "output_type": "execute_result",
          "data": {
            "text/plain": [
              "<keras.src.callbacks.History at 0x79bcf007bc70>"
            ]
          },
          "metadata": {},
          "execution_count": 26
        }
      ],
      "source": [
        "model.fit(X_train, Y_train,epochs = 15,batch_size=100,verbose = 2)"
      ]
    },
    {
      "cell_type": "code",
      "execution_count": null,
      "id": "68ca9a0d-7da0-44dc-bf1f-08a19fcad705",
      "metadata": {
        "id": "68ca9a0d-7da0-44dc-bf1f-08a19fcad705"
      },
      "outputs": [],
      "source": [
        "x.shape"
      ]
    },
    {
      "cell_type": "code",
      "execution_count": 64,
      "id": "75e7543e-451c-4bb8-9f00-c1a55715bd5e",
      "metadata": {
        "id": "75e7543e-451c-4bb8-9f00-c1a55715bd5e"
      },
      "outputs": [],
      "source": [
        "new_review = \"This product is amazing! I love it.\""
      ]
    },
    {
      "cell_type": "code",
      "source": [
        "tokenizer = Tokenizer(num_words=vocab_size)\n",
        "tokenizer.fit_on_texts([new_review])\n",
        "sequences = tokenizer.texts_to_sequences([new_review])\n",
        "\n",
        "\n",
        "max_sequence_length = 100\n",
        "padded_sequences = pad_sequences(sequences, maxlen=max_sequence_length)"
      ],
      "metadata": {
        "id": "fUaUPEnmMJ7S"
      },
      "id": "fUaUPEnmMJ7S",
      "execution_count": 73,
      "outputs": []
    },
    {
      "cell_type": "code",
      "source": [
        "predictions = model.predict(padded_sequences)\n",
        "\n",
        "# Assuming your model predicts probabilities for each class, you can get the predicted class\n",
        "predicted_class = np.argmax(predictions)\n",
        "\n",
        "# You can also get the probability score for each class\n",
        "probability_scores = predictions[0]"
      ],
      "metadata": {
        "colab": {
          "base_uri": "https://localhost:8080/"
        },
        "id": "kS0quoIhMSUg",
        "outputId": "7179761c-83ae-4ede-d1f9-650b1272db84"
      },
      "id": "kS0quoIhMSUg",
      "execution_count": 66,
      "outputs": [
        {
          "output_type": "stream",
          "name": "stdout",
          "text": [
            "1/1 [==============================] - 0s 19ms/step\n"
          ]
        }
      ]
    },
    {
      "cell_type": "code",
      "source": [
        "predictions = model.predict(padded_sequences)"
      ],
      "metadata": {
        "colab": {
          "base_uri": "https://localhost:8080/"
        },
        "id": "lyiGVviCN4uU",
        "outputId": "558124f5-250d-41ec-fa1c-662fada58505"
      },
      "id": "lyiGVviCN4uU",
      "execution_count": 67,
      "outputs": [
        {
          "output_type": "stream",
          "name": "stdout",
          "text": [
            "1/1 [==============================] - 0s 18ms/step\n"
          ]
        }
      ]
    },
    {
      "cell_type": "code",
      "source": [
        "predictions"
      ],
      "metadata": {
        "colab": {
          "base_uri": "https://localhost:8080/"
        },
        "id": "6wo7o3puN5FG",
        "outputId": "f4e2553c-71f2-4a3d-c6c9-8063c1fd536d"
      },
      "id": "6wo7o3puN5FG",
      "execution_count": 68,
      "outputs": [
        {
          "output_type": "execute_result",
          "data": {
            "text/plain": [
              "array([[0.00197041, 0.00305942, 0.99497014]], dtype=float32)"
            ]
          },
          "metadata": {},
          "execution_count": 68
        }
      ]
    },
    {
      "cell_type": "code",
      "source": [
        "labels=[\"Negative\",\"Neutral\",\"Positive\"]"
      ],
      "metadata": {
        "id": "P1ukziPQN674"
      },
      "id": "P1ukziPQN674",
      "execution_count": 69,
      "outputs": []
    },
    {
      "cell_type": "code",
      "source": [
        "label=labels[predictions.argmax()]"
      ],
      "metadata": {
        "id": "T9o8XUCjRyM_"
      },
      "id": "T9o8XUCjRyM_",
      "execution_count": 70,
      "outputs": []
    },
    {
      "cell_type": "code",
      "source": [
        "label"
      ],
      "metadata": {
        "colab": {
          "base_uri": "https://localhost:8080/",
          "height": 36
        },
        "id": "BjR1tu5YR5nD",
        "outputId": "ef7dc700-e0d4-4511-8812-ec079d8bea68"
      },
      "id": "BjR1tu5YR5nD",
      "execution_count": 71,
      "outputs": [
        {
          "output_type": "execute_result",
          "data": {
            "text/plain": [
              "'Positive'"
            ],
            "application/vnd.google.colaboratory.intrinsic+json": {
              "type": "string"
            }
          },
          "metadata": {},
          "execution_count": 71
        }
      ]
    }
  ],
  "metadata": {
    "kernelspec": {
      "display_name": "Python 3",
      "name": "python3"
    },
    "language_info": {
      "codemirror_mode": {
        "name": "ipython",
        "version": 3
      },
      "file_extension": ".py",
      "mimetype": "text/x-python",
      "name": "python",
      "nbconvert_exporter": "python",
      "pygments_lexer": "ipython3",
      "version": "3.11.7"
    },
    "colab": {
      "provenance": [],
      "gpuType": "T4"
    },
    "accelerator": "GPU"
  },
  "nbformat": 4,
  "nbformat_minor": 5
}